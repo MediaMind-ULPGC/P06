{
 "cells": [
  {
   "cell_type": "code",
   "execution_count": 1,
   "metadata": {},
   "outputs": [],
   "source": [
    "import os\n",
    "import cv2 as cv\n",
    "import matplotlib.pyplot as plt\n",
    "\n"
   ]
  },
  {
   "cell_type": "code",
   "execution_count": 30,
   "metadata": {},
   "outputs": [
    {
     "name": "stdout",
     "output_type": "stream",
     "text": [
      "['crd_0811f', 'crd_0812f', 'crd_0813f', 'crd_0814f', 'crd_0815f', 'crd_0816f', 'crd_0817f', 'crd_0818f', 'crd_0819f', 'crd_0820f']\n"
     ]
    }
   ],
   "source": [
    "#muestra que se quiere comparar\n",
    "\n",
    "sample_path = r\"\\BaseDatosNISTsd09_pr\"\n",
    "sample_path = os.getcwd()+sample_path\n",
    "files= os.listdir(sample_path)\n",
    "\n",
    "# Busca en el directorio a cada uno de los sujetos\n",
    "counter=0 \n",
    "print(files)\n",
    "for file in files:\n",
    "    dir = sample_path +'\\\\'\n",
    "    dir = dir + file + '\\\\'\n",
    "    file2= os.listdir(dir)\n",
    "    ruta=dir+'\\\\'+file2[0]\n",
    "    sample = cv.imread(ruta) #muestras para tomar de referencia\n",
    "    counter+=1\n",
    "    #segundo bucle para comparar con todas\n",
    "    for file in files:\n",
    "        dir = sample_path +'\\\\'\n",
    "        dir = dir + file + '\\\\'\n",
    "        file2= os.listdir(dir)\n",
    "        ruta=dir+'\\\\'+file2[1] \n",
    "        sample2 = cv.imread(ruta) #muestras para tomar de referencia\n",
    "     \n",
    "    \n",
    "    \n",
    "    "
   ]
  },
  {
   "cell_type": "markdown",
   "metadata": {},
   "source": [
    "A partir de la base de datos proporcionada, se realizará un programa que permita identificar las huellas del mismo usuario y descartar el resto, dando información cuantitativa de la similitud entre las huellas, pudiendo utilizar openCV, numpy, os, PyTorch,..., pero no funciones descargadas especialmente para trabajar con huellas dactilares.\n",
    "\n",
    "Se obtendrá la función densidad de probabilidad, la curva DET, la curva ROC., el valor EER y el valor AUC.\n",
    "\n",
    "Se realizará un póster (una única transparencia) y se presentará durante la última semana de clase. Además, se entregará el código usado.\n",
    "\n",
    "En la presentación tienen que tratarse los siguientes puntos:\n",
    "\n",
    "-Hipótesis de partida.\n",
    "-Metodología utilizada y explicación de su desarrollo.\n",
    "-Resultados (curvas, EER y AUC).\n",
    "-Conclusiones.\n",
    "-Fuentes principales consultadas.\n",
    "\n",
    "\n",
    "\n"
   ]
  }
 ],
 "metadata": {
  "kernelspec": {
   "display_name": "Python 3",
   "language": "python",
   "name": "python3"
  },
  "language_info": {
   "codemirror_mode": {
    "name": "ipython",
    "version": 3
   },
   "file_extension": ".py",
   "mimetype": "text/x-python",
   "name": "python",
   "nbconvert_exporter": "python",
   "pygments_lexer": "ipython3",
   "version": "3.11.9"
  }
 },
 "nbformat": 4,
 "nbformat_minor": 2
}
