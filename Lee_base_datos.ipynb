{
 "cells": [
  {
   "cell_type": "code",
   "execution_count": 1,
   "metadata": {},
   "outputs": [],
   "source": [
    "import cv2 as cv\n",
    "import matplotlib.pyplot as plt\n",
    "import os"
   ]
  },
  {
   "cell_type": "markdown",
   "metadata": {},
   "source": [
    "A partir de la base de datos proporcionada, se realizará un programa que permita identificar las huellas del mismo usuario y descartar el resto, dando información cuantitativa de la similitud entre las huellas, pudiendo utilizar openCV, numpy, os, PyTorch,..., pero no funciones descargadas especialmente para trabajar con huellas dactilares.\n",
    "\n",
    "Se obtendrá la función densidad de probabilidad, la curva DET, la curva ROC., el valor EER y el valor AUC.\n",
    "\n",
    "Se realizará un póster (una única transparencia) y se presentará durante la última semana de clase. Además, se entregará el código usado.\n",
    "\n",
    "En la presentación tienen que tratarse los siguientes puntos:\n",
    "\n",
    "-Hipótesis de partida.\n",
    "\n",
    "-Metodología utilizada y explicación de su desarrollo.\n",
    "\n",
    "-Resultados (curvas, EER y AUC).\n",
    "\n",
    "-Conclusiones.\n",
    "\n",
    "-Fuentes principales consultadas."
   ]
  },
  {
   "cell_type": "code",
   "execution_count": 3,
   "metadata": {},
   "outputs": [],
   "source": [
    "#TODO:\n",
    "# 1. Limpieza: id y separar la huella\n",
    "# 2. Eliminación de ruido\n",
    "\n",
    "#TODO: Data augmentation\n",
    "# 1. Rotación: tener en cuenta el fondo\n",
    "# luminosidad\n",
    "\n",
    "#TODO: Moselo / sistema / lo q sea\n",
    "# SIFT\n",
    "# CONVOLUTIVA\n",
    "\n",
    "# MATCHING DE PATRONES"
   ]
  },
  {
   "cell_type": "code",
   "execution_count": null,
   "metadata": {},
   "outputs": [],
   "source": []
  },
  {
   "cell_type": "markdown",
   "metadata": {},
   "source": [
    "## 1. Limpieza del dataset"
   ]
  },
  {
   "cell_type": "markdown",
   "metadata": {},
   "source": [
    "### 1.2. Extraer la huella de la imagen"
   ]
  },
  {
   "cell_type": "code",
   "execution_count": 142,
   "metadata": {},
   "outputs": [],
   "source": [
    "from clean_dataset.hand_cleaning import build_dataset\n",
    "from clean_dataset.scikit_cleaning  import build_dataset_frangi"
   ]
  },
  {
   "cell_type": "code",
   "execution_count": 143,
   "metadata": {},
   "outputs": [],
   "source": [
    "sample_path = r\"\\BaseDatosNISTsd09_pr\"\n",
    "output_hand_dataset = \"./datasets/hand_dataset\"\n",
    "output_frangi_dataset = \"./datasets/frangi_dataset\"\n",
    "sample_path = os.getcwd()+sample_path\n",
    "subfolders= os.listdir(sample_path)\n",
    "\n",
    "build_dataset_frangi(sample_path, subfolders, output_frangi_dataset)\n",
    "build_dataset(sample_path, subfolders, output_hand_dataset)"
   ]
  },
  {
   "cell_type": "markdown",
   "metadata": {},
   "source": [
    "## 2. Planteamiento del sistema"
   ]
  },
  {
   "cell_type": "code",
   "execution_count": 144,
   "metadata": {},
   "outputs": [
    {
     "name": "stdout",
     "output_type": "stream",
     "text": [
      "{'crd_0811f_01.png': 1, 'crd_0811s_01.png': 1, 'crd_0812f_01.png': 1, 'crd_0812s_01.png': 1, 'crd_0813f_01.png': 1, 'crd_0813s_01.png': 1, 'crd_0814f_01.png': 1, 'crd_0814s_01.png': 1, 'crd_0815f_01.png': 1, 'crd_0815s_01.png': 1, 'crd_0816f_01.png': 1, 'crd_0816s_01.png': 1, 'crd_0817f_01.png': 1, 'crd_0817s_01.png': 1, 'crd_0818f_01.png': 0, 'crd_0818s_01.png': 0, 'crd_0819f_01.png': 0, 'crd_0819s_01.png': 0, 'crd_0820f_01.png': 0, 'crd_0820s_01.png': 0}\n"
     ]
    }
   ],
   "source": [
    "targets = {}\n",
    "i = 0\n",
    "\n",
    "for folder in subfolders:\n",
    "    for file in os.listdir(sample_path + \"/\" + folder):\n",
    "        targets[file] = 1\n",
    "    if i == 6:\n",
    "        break\n",
    "    i += 1\n",
    "\n",
    "i = 0\n",
    "for folder in subfolders:\n",
    "    if i > 6:\n",
    "        for file in os.listdir(sample_path + \"/\" + folder):\n",
    "            targets[file] = 0\n",
    "    i += 1\n",
    "\n",
    "print(targets)"
   ]
  },
  {
   "cell_type": "markdown",
   "metadata": {},
   "source": [
    "### 2.1. SIFT (Scale-Invariant Feature Transform)"
   ]
  },
  {
   "cell_type": "code",
   "execution_count": 147,
   "metadata": {},
   "outputs": [],
   "source": [
    "dataset_path = output_frangi_dataset\n",
    "users = {}\n",
    "i = 0\n",
    "\n",
    "for subfolder in subfolders:\n",
    "    path = os.listdir(dataset_path + '\\\\' + subfolder)\n",
    "    route = dataset_path + '\\\\' + subfolder + '\\\\' + path[0]\n",
    "\n",
    "    img = cv.imread(route)\n",
    "    gray = cv.cvtColor(img, cv.COLOR_BGR2GRAY)\n",
    "\n",
    "    sift = cv.SIFT_create()\n",
    "    kp, des = sift.detectAndCompute(gray, None)\n",
    "    users[path[0]] = (kp, des, path[0])\n",
    "    if i == 6:\n",
    "        break\n",
    "    i += 1\n"
   ]
  },
  {
   "cell_type": "code",
   "execution_count": 148,
   "metadata": {},
   "outputs": [],
   "source": [
    "for subfolder in subfolders:\n",
    "    path = os.listdir(dataset_path + '\\\\' + subfolder)\n",
    "    route = dataset_path + '\\\\' + subfolder + '\\\\' + path[0]\n",
    "    # eliminar la imagen de la carpeta\n",
    "    os.remove(route)"
   ]
  },
  {
   "cell_type": "code",
   "execution_count": 99,
   "metadata": {},
   "outputs": [],
   "source": [
    "def find_match(new_kp, new_des, users, threshold=230):\n",
    "    bf = cv.BFMatcher(cv.NORM_L2, crossCheck=True)\n",
    "    for user_id, (kp, des, img) in users.items(): \n",
    "        matches = bf.match(new_des, des)\n",
    "        sorted_matches = sorted(matches, key=lambda x: x.distance)\n",
    "\n",
    "        if sorted_matches and sorted_matches[0].distance < threshold:\n",
    "            return True, img\n",
    "\n",
    "    return False, None "
   ]
  },
  {
   "cell_type": "code",
   "execution_count": 138,
   "metadata": {},
   "outputs": [],
   "source": [
    "import numpy as np"
   ]
  },
  {
   "cell_type": "code",
   "execution_count": 149,
   "metadata": {},
   "outputs": [],
   "source": [
    "correct = 0\n",
    "true_positive = 0\n",
    "true_negative = 0\n",
    "total = 0\n",
    "thresholds = np.linspace(0, 500, 300)\n",
    "\n",
    "false_accepted = []\n",
    "false_rejected = []\n",
    "int_usuario_no = 6\n",
    "int_usuarios_si = 7\n",
    "\n",
    "dataset_path\n",
    "\n",
    "for threshold in thresholds:\n",
    "    number_false_rejected = 0\n",
    "    number_false_accepted = 0\n",
    "    for subfolder in subfolders:\n",
    "        for file in os.listdir(dataset_path + '\\\\' + subfolder):\n",
    "            path = dataset_path + '\\\\' + subfolder + '\\\\' + file\n",
    "            true_target = targets[file]\n",
    "            img = cv.imread(path)\n",
    "            gray = cv.cvtColor(img, cv.COLOR_BGR2GRAY)\n",
    "\n",
    "            sift = cv.SIFT_create()\n",
    "            kp, des = sift.detectAndCompute(gray, None)\n",
    "            sift = cv.SIFT_create()\n",
    "            new_kp, new_des = sift.detectAndCompute(gray, None)\n",
    "\n",
    "            result, img_name = find_match(new_kp, new_des, users, threshold)\n",
    "            if int(result) == 0 and true_target == 1:\n",
    "                number_false_rejected += 1\n",
    "            \n",
    "            elif int(result) == 1 and true_target == 0:\n",
    "                number_false_accepted += 1\n",
    "            \n",
    "            elif int(result) == true_target:\n",
    "                correct += 1\n",
    "            total += 1\n",
    "    far = number_false_accepted / int_usuario_no\n",
    "    frr = number_false_rejected / int_usuarios_si\n",
    "\n",
    "    false_accepted.append(far)\n",
    "    false_rejected.append(frr)"
   ]
  },
  {
   "cell_type": "code",
   "execution_count": 150,
   "metadata": {},
   "outputs": [
    {
     "data": {
      "image/png": "[encoded data removed]",
      "text/plain": [
       "<Figure size 640x480 with 1 Axes>"
      ]
     },
     "metadata": {},
     "output_type": "display_data"
    }
   ],
   "source": [
    "plt.plot(false_accepted, false_rejected, 'o', alpha=0.5)\n",
    "plt.xlabel(\"False accepted\")\n",
    "plt.ylabel(\"False rejected\")\n",
    "plt.xticks(np.arange(0, 1.1, 0.1))\n",
    "plt.yticks(np.arange(0, 1.1, 0.1))\n",
    "plt.show()"
   ]
  },
  {
   "cell_type": "code",
   "execution_count": 151,
   "metadata": {},
   "outputs": [
    {
     "name": "stdout",
     "output_type": "stream",
     "text": [
      "Correct:  1542\n",
      "Total:  3000\n",
      "True positive:  0\n",
      "True negative:  0\n",
      "Accuracy:  51.4 %\n"
     ]
    }
   ],
   "source": [
    "print(\"Correct: \", correct)\n",
    "print(\"Total: \", total)\n",
    "print(\"True positive: \", true_positive)\n",
    "print(\"True negative: \", true_negative)\n",
    "print(\"Accuracy: \", correct / total * 100, \"%\")"
   ]
  },
  {
   "cell_type": "markdown",
   "metadata": {},
   "source": [
    "sift da un 40% de mierd"
   ]
  },
  {
   "cell_type": "markdown",
   "metadata": {},
   "source": [
    "### 2.2. ResNet pre-entrenada"
   ]
  },
  {
   "cell_type": "code",
   "execution_count": 102,
   "metadata": {},
   "outputs": [],
   "source": [
    "import cv2 as cv\n",
    "import torchvision.models as models\n",
    "import torch\n",
    "import torch.nn as nn\n",
    "import torchvision.models as models\n",
    "from torchvision import transforms\n",
    "import numpy as np\n",
    "import os\n",
    "from scipy.spatial.distance import cosine, euclidean"
   ]
  },
  {
   "cell_type": "code",
   "execution_count": 122,
   "metadata": {},
   "outputs": [],
   "source": [
    "def extract_features(img_path, model):\n",
    "    model.eval()\n",
    "    image = cv.imread(img_path)\n",
    "    image = cv.cvtColor(image, cv.COLOR_BGR2RGB)\n",
    "\n",
    "    preprocess = transforms.Compose([\n",
    "        transforms.ToPILImage(),\n",
    "        transforms.Resize((224, 224)),\n",
    "        transforms.ToTensor(),\n",
    "        transforms.Normalize(mean=[0.485, 0.456, 0.406], std=[0.229, 0.224, 0.225]),\n",
    "    ])\n",
    "    image = preprocess(image).unsqueeze(0)\n",
    "\n",
    "    with torch.no_grad():\n",
    "        features = model(image).squeeze().numpy()\n",
    "    return features\n",
    "\n",
    "def compare_fingerprints(users, v2, threshold=0.1):\n",
    "    for idx, user in enumerate(users):\n",
    "        user = user.flatten() if user.ndim > 1 else user\n",
    "        v2 = v2.flatten() if v2.ndim > 1 else v2\n",
    "        \n",
    "        distance = cosine(user, v2)\n",
    "        if distance < threshold:\n",
    "            return True\n",
    "    return False"
   ]
  },
  {
   "cell_type": "code",
   "execution_count": 123,
   "metadata": {},
   "outputs": [
    {
     "name": "stderr",
     "output_type": "stream",
     "text": [
      "c:\\Users\\Susana\\anaconda3\\envs\\piav\\lib\\site-packages\\torchvision\\models\\_utils.py:208: UserWarning: The parameter 'pretrained' is deprecated since 0.13 and may be removed in the future, please use 'weights' instead.\n",
      "  warnings.warn(\n",
      "c:\\Users\\Susana\\anaconda3\\envs\\piav\\lib\\site-packages\\torchvision\\models\\_utils.py:223: UserWarning: Arguments other than a weight enum or `None` for 'weights' are deprecated since 0.13 and may be removed in the future. The current behavior is equivalent to passing `weights=ResNet50_Weights.IMAGENET1K_V1`. You can also use `weights=ResNet50_Weights.DEFAULT` to get the most up-to-date weights.\n",
      "  warnings.warn(msg)\n"
     ]
    }
   ],
   "source": [
    "model = models.resnet50(pretrained=True)\n",
    "model = nn.Sequential(*list(model.children())[:-1])"
   ]
  },
  {
   "cell_type": "code",
   "execution_count": 120,
   "metadata": {},
   "outputs": [],
   "source": [
    "users = []\n",
    "sample_path = r\"\\BaseDatosNISTsd09_pr\"\n",
    "dataset_path = \"./datasets/hand_dataset\"\n",
    "sample_path = os.getcwd() + sample_path\n",
    "subfolders = os.listdir(sample_path)\n",
    "\n",
    "for i, subfolder in enumerate(subfolders[:6]):\n",
    "    path = os.listdir(dataset_path + '\\\\' + subfolder)\n",
    "    route = dataset_path + '\\\\' + subfolder + '\\\\' + path[0]\n",
    "    vector = extract_features(route, model)\n",
    "    users.append(vector)"
   ]
  },
  {
   "cell_type": "code",
   "execution_count": 126,
   "metadata": {},
   "outputs": [],
   "source": [
    "correct = 0\n",
    "true_positive = 0\n",
    "true_negative = 0\n",
    "total = 0\n",
    "\n",
    "thresholds = np.linspace(0, 1, 100)\n",
    "false_accepted = []\n",
    "false_rejected = []\n",
    "int_usuario_no = 6\n",
    "int_usuarios_si = 7\n",
    "\n",
    "distances = []\n",
    "labels = []\n",
    "\n",
    "for threshold in thresholds:\n",
    "    number_false_rejected = 0\n",
    "    number_false_accepted = 0\n",
    "\n",
    "    for subfolder in subfolders:\n",
    "        path = os.listdir(dataset_path + '\\\\' + subfolder)\n",
    "        \n",
    "        for file_name in path:\n",
    "            route = dataset_path + '\\\\' + subfolder + '\\\\' + file_name\n",
    "            true_target = targets[file_name]\n",
    "            v2 = extract_features(route, model)\n",
    "            \n",
    "            result = compare_fingerprints(users, v2, threshold)\n",
    "            \n",
    "            #print(f\"{true_target} == {int(result)}\")\n",
    "\n",
    "            if int(result) == 0 and true_target == 1:\n",
    "                number_false_rejected += 1\n",
    "            \n",
    "            elif int(result) == 1 and true_target == 0:\n",
    "                number_false_accepted += 1\n",
    "            \n",
    "            elif int(result) == true_target:\n",
    "                correct += 1\n",
    "            total += 1\n",
    "    far = number_false_accepted / int_usuario_no\n",
    "    frr = number_false_rejected / int_usuarios_si\n",
    "\n",
    "    false_accepted.append(far)\n",
    "    false_rejected.append(frr)\n",
    "\n",
    "    \"\"\"print(\"Correct: \", correct)\n",
    "    print(\"Total: \", total)\n",
    "    print(\"Accuracy: \", correct / total * 100, \"%\")\"\"\""
   ]
  },
  {
   "cell_type": "code",
   "execution_count": null,
   "metadata": {},
   "outputs": [
    {
     "data": {
      "image/png": "[encoded data removed]",
      "text/plain": [
       "<Figure size 640x480 with 1 Axes>"
      ]
     },
     "metadata": {},
     "output_type": "display_data"
    }
   ],
   "source": [
    "plt.plot(false_accepted, false_rejected, 'o', alpha=0.5)\n",
    "plt.xlabel(\"False accepted\")\n",
    "plt.ylabel(\"False rejected\")\n",
    "plt.xticks(np.arange(0, 1.1, 0.1))\n",
    "plt.yticks(np.arange(0, 1.1, 0.1))\n",
    "plt.show()"
   ]
  },
  {
   "cell_type": "markdown",
   "metadata": {},
   "source": [
    "el error rate es 0.3"
   ]
  },
  {
   "cell_type": "markdown",
   "metadata": {},
   "source": [
    "### 2.3 Red Convolutiva desde cero"
   ]
  },
  {
   "cell_type": "code",
   "execution_count": 3,
   "metadata": {},
   "outputs": [],
   "source": [
    "import os\n",
    "import cv2 as cv\n",
    "\n",
    "def generate_rotated_img(img, angle, base_name, extension, root):\n",
    "    (h, w) = img.shape[:2]\n",
    "    center = (w // 2, h // 2)\n",
    "    M = cv.getRotationMatrix2D(center, angle, 1.0)\n",
    "    rotated_img = cv.warpAffine(img, M, (w, h))\n",
    "    rotated_image_path = os.path.join(root, f\"{base_name}_{angle}_grades{extension}\")\n",
    "    cv.imwrite(rotated_image_path, rotated_img)\n",
    "\n",
    "def rotate_images_in_directory(directory):\n",
    "    for root, _, files in os.walk(directory):\n",
    "        for file in files:\n",
    "            if file.lower().endswith(('png', 'jpg', 'jpeg', 'bmp', 'gif')):\n",
    "                image_path = os.path.join(root, file)\n",
    "                img = cv.imread(image_path)\n",
    "                base_name = os.path.splitext(file)[0]\n",
    "                extension = os.path.splitext(file)[1]\n",
    "                for angle in range(1, 181):\n",
    "                    generate_rotated_img(img, angle, base_name, extension, root)"
   ]
  },
  {
   "cell_type": "code",
   "execution_count": 5,
   "metadata": {},
   "outputs": [],
   "source": [
    "directory = './datasets/conv_authentication'\n",
    "rotate_images_in_directory(directory)"
   ]
  },
  {
   "cell_type": "code",
   "execution_count": 35,
   "metadata": {},
   "outputs": [],
   "source": [
    "from torchvision.datasets import ImageFolder\n",
    "from torch.utils.data import DataLoader, random_split\n",
    "from torchvision import transforms\n",
    "\n",
    "transform = transforms.Compose([\n",
    "    transforms.Grayscale(num_output_channels=1),\n",
    "    transforms.Resize((28, 28)),\n",
    "    transforms.RandomRotation(10),  # Rotación aleatoria\n",
    "    transforms.RandomHorizontalFlip(),  # Volteo horizontal\n",
    "    transforms.ToTensor(),\n",
    "    transforms.Normalize((0.5,), (0.5,))\n",
    "])\n",
    "\n",
    "dataset = ImageFolder(\"./datasets/conv_identification\", transform=transform)\n",
    "\n",
    "train_size = int(0.7 * len(dataset))\n",
    "test_size = int(0.2 * len(dataset)) \n",
    "eval_size = int(0.1 * len(dataset))\n",
    "train_dataset, test_dataset, eval_dataset = random_split(dataset, [train_size, test_size, eval_size])\n",
    "\n",
    "train_loader = DataLoader(train_dataset, batch_size=32, shuffle=True)\n",
    "test_loader = DataLoader(test_dataset, batch_size=32, shuffle=False)\n",
    "eval_loader = DataLoader(eval_dataset, batch_size=32, shuffle=False)"
   ]
  },
  {
   "cell_type": "code",
   "execution_count": 36,
   "metadata": {},
   "outputs": [],
   "source": [
    "import torch.nn as nn\n",
    "import torch.nn.functional as F\n",
    "\n",
    "class ConvNet(nn.Module):\n",
    "    def __init__(self):\n",
    "        super(ConvNet, self).__init__()\n",
    "        self.conv1 = nn.Conv2d(1, 16, kernel_size=5, stride=1, padding=2)  # Entrada: 1 canal, Salida: 16 canales, kernel de 5x5\n",
    "        self.pool = nn.MaxPool2d(kernel_size=2, stride=2, padding=0)  # Max pooling con un kernel de 2x2\n",
    "        self.conv2 = nn.Conv2d(16, 32, kernel_size=5, stride=1, padding=2)  # Entrada: 16 canales, Salida: 32 canales\n",
    "        self.fc1 = nn.Linear(32 * 7 * 7, 120)  # Imágenes reducidas a 7x7 después del pooling\n",
    "        self.fc2 = nn.Linear(120, 10)\n",
    "        self.dropout = nn.Dropout(0.5)\n",
    "\n",
    "    def forward(self, x):\n",
    "        x = self.pool(F.relu(self.conv1(x)))\n",
    "        x = self.pool(F.relu(self.conv2(x)))\n",
    "        x = x.view(-1, 32 * 7 * 7)\n",
    "        x = F.relu(self.fc1(x))\n",
    "        x = self.dropout(x)\n",
    "        x = self.fc2(x)\n",
    "        return x"
   ]
  },
  {
   "cell_type": "code",
   "execution_count": 37,
   "metadata": {},
   "outputs": [
    {
     "name": "stdout",
     "output_type": "stream",
     "text": [
      "Epoch 1/10, Loss: 1.8622773960232735\n",
      "Epoch 2/10, Loss: 1.1953670419752598\n",
      "Epoch 3/10, Loss: 0.7755447011440992\n",
      "Epoch 4/10, Loss: 0.5418874338269234\n",
      "Epoch 5/10, Loss: 0.4120087897405028\n",
      "Epoch 6/10, Loss: 0.29728019796311855\n",
      "Epoch 7/10, Loss: 0.23995397193357348\n",
      "Epoch 8/10, Loss: 0.21182678677141667\n",
      "Epoch 9/10, Loss: 0.1840225917287171\n",
      "Epoch 10/10, Loss: 0.17331103505566717\n",
      "Accuracy: 99.72375690607734%\n",
      "True Positive: 58\n",
      "True Negative: 80\n"
     ]
    }
   ],
   "source": [
    "import torch\n",
    "import torch.optim as optim\n",
    "\n",
    "model = ConvNet()\n",
    "criterion = nn.CrossEntropyLoss()\n",
    "optimizer = optim.Adam(model.parameters(), lr=0.001)\n",
    "\n",
    "num_epochs = 10\n",
    "\n",
    "for epoch in range(num_epochs):\n",
    "    model.train()\n",
    "    running_loss = 0.0\n",
    "    for inputs, labels in train_loader:\n",
    "        optimizer.zero_grad()\n",
    "        outputs = model(inputs)\n",
    "        loss = criterion(outputs, labels)\n",
    "        loss.backward()\n",
    "        optimizer.step()\n",
    "        running_loss += loss.item()\n",
    "    \n",
    "    print(f\"Epoch {epoch+1}/{num_epochs}, Loss: {running_loss/len(train_loader)}\")\n",
    "\n",
    "correct = 0\n",
    "total = 0\n",
    "true_positive = 0\n",
    "true_negative = 0\n",
    "\n",
    "model.eval()\n",
    "with torch.no_grad():\n",
    "    for inputs, labels in test_loader:\n",
    "        outputs = model(inputs)\n",
    "        _, predicted = torch.max(outputs, 1)\n",
    "\n",
    "        # Total de ejemplos\n",
    "        total += labels.size(0)\n",
    "\n",
    "        # Ejemplos correctamente clasificados\n",
    "        correct += (predicted == labels).sum().item()\n",
    "\n",
    "        # True Positive y True Negative\n",
    "        true_positive += ((predicted == 1) & (labels == 1)).sum().item()\n",
    "        true_negative += ((predicted == 0) & (labels == 0)).sum().item()\n",
    "\n",
    "# Calcular métricas\n",
    "accuracy = 100 * correct / total\n",
    "print(f\"Accuracy: {accuracy}%\")\n",
    "print(f\"True Positive: {true_positive}\")\n",
    "print(f\"True Negative: {true_negative}\")\n"
   ]
  },
  {
   "cell_type": "code",
   "execution_count": 38,
   "metadata": {},
   "outputs": [
    {
     "name": "stdout",
     "output_type": "stream",
     "text": [
      "Accuracy: 99.72375690607734%\n",
      "True Positive: 41\n",
      "True Negative: 27\n",
      "False Positive: 0\n",
      "False Negative: 0\n"
     ]
    }
   ],
   "source": [
    "correct = 0\n",
    "total = 0\n",
    "true_positive = 0\n",
    "true_negative = 0\n",
    "\n",
    "model.eval()\n",
    "with torch.no_grad():\n",
    "    for inputs, labels in eval_loader:\n",
    "        outputs = model(inputs)\n",
    "        _, predicted = torch.max(outputs, 1)\n",
    "\n",
    "        # Total de ejemplos\n",
    "        total += labels.size(0)\n",
    "\n",
    "        # Ejemplos correctamente clasificados\n",
    "        correct += (predicted == labels).sum().item()\n",
    "\n",
    "        # True Positive y True Negative\n",
    "        true_positive += ((predicted == 1) & (labels == 1)).sum().item()\n",
    "        true_negative += ((predicted == 0) & (labels == 0)).sum().item()\n",
    "\n",
    "        # False Positive y False Negative\n",
    "        false_positive = ((predicted == 1) & (labels == 0)).sum().item()\n",
    "        false_negative = ((predicted == 0) & (labels == 1)).sum().item()\n",
    "\n",
    "\n",
    "# Calcular métricas\n",
    "accuracy = 100 * correct / total\n",
    "print(f\"Accuracy: {accuracy}%\")\n",
    "print(f\"True Positive: {true_positive}\")\n",
    "print(f\"True Negative: {true_negative}\")\n",
    "print(f\"False Positive: {false_positive}\")\n",
    "print(f\"False Negative: {false_negative}\")"
   ]
  },
  {
   "cell_type": "code",
   "execution_count": 54,
   "metadata": {},
   "outputs": [
    {
     "name": "stdout",
     "output_type": "stream",
     "text": [
      "Model output: tensor([9]) <-> True label: tensor([9])\n",
      "Model output: tensor([7]) <-> True label: tensor([7])\n",
      "Model output: tensor([1]) <-> True label: tensor([1])\n",
      "Model output: tensor([1]) <-> True label: tensor([1])\n",
      "Model output: tensor([6]) <-> True label: tensor([6])\n",
      "Model output: tensor([8]) <-> True label: tensor([8])\n",
      "Model output: tensor([4]) <-> True label: tensor([4])\n",
      "Model output: tensor([3]) <-> True label: tensor([3])\n",
      "Model output: tensor([7]) <-> True label: tensor([7])\n",
      "Model output: tensor([8]) <-> True label: tensor([8])\n",
      "Model output: tensor([5]) <-> True label: tensor([5])\n",
      "Model output: tensor([5]) <-> True label: tensor([5])\n",
      "Model output: tensor([9]) <-> True label: tensor([9])\n",
      "Model output: tensor([0]) <-> True label: tensor([0])\n",
      "Model output: tensor([0]) <-> True label: tensor([0])\n",
      "Model output: tensor([4]) <-> True label: tensor([4])\n",
      "Model output: tensor([6]) <-> True label: tensor([6])\n",
      "Model output: tensor([3]) <-> True label: tensor([3])\n",
      "Model output: tensor([2]) <-> True label: tensor([2])\n",
      "Model output: tensor([2]) <-> True label: tensor([2])\n",
      "Accuracy: 100.0%\n"
     ]
    }
   ],
   "source": [
    "dataset = ImageFolder(\"./datasets/hand_dataset\", transform=transform)\n",
    "\n",
    "train_size = int(0 * len(dataset))\n",
    "test_size = int(0 * len(dataset)) \n",
    "eval_size = int(1 * len(dataset))\n",
    "train_dataset, test_dataset, eval_dataset = random_split(dataset, [train_size, test_size, eval_size])\n",
    "\n",
    "eval_loader = DataLoader(eval_dataset, batch_size=1, shuffle=False)\n",
    "\n",
    "correct = 0\n",
    "total = 0\n",
    "true_positive = 0\n",
    "true_negative = 0\n",
    "\n",
    "model.eval()\n",
    "with torch.no_grad():\n",
    "    for inputs, labels in eval_loader:\n",
    "        outputs = model(inputs)\n",
    "        _, predicted = torch.max(outputs, 1)\n",
    "\n",
    "        # Total de ejemplos\n",
    "        total += labels.size(0)\n",
    "\n",
    "        # Ejemplos correctamente clasificados\n",
    "        correct += (predicted == labels).sum().item()\n",
    "        print(f'Model output: {predicted} <-> True label: {labels}')\n",
    "\n",
    "# Calcular métricas\n",
    "accuracy = 100 * correct / total\n",
    "print(f\"Accuracy: {accuracy}%\")"
   ]
  },
  {
   "cell_type": "markdown",
   "metadata": {},
   "source": [
    "### 2.3.1 Convolutiva con k-folds"
   ]
  },
  {
   "cell_type": "code",
   "execution_count": 13,
   "metadata": {},
   "outputs": [],
   "source": [
    "import torch\n",
    "import torch.nn as nn\n",
    "import torch.optim as optim\n",
    "from torch.utils.data import DataLoader, Subset\n",
    "from sklearn.model_selection import KFold\n",
    "from torchvision import datasets, transforms"
   ]
  },
  {
   "cell_type": "code",
   "execution_count": null,
   "metadata": {},
   "outputs": [],
   "source": [
    "transform = transforms.Compose([\n",
    "    transforms.Grayscale(num_output_channels=1),\n",
    "    transforms.Resize((28, 28)),\n",
    "    transforms.RandomRotation(10),  # Rotación aleatoria\n",
    "    transforms.RandomHorizontalFlip(),  # Volteo horizontal\n",
    "    transforms.ToTensor(),\n",
    "    transforms.Normalize((0.5,), (0.5,))\n",
    "])\n",
    "\n",
    "dataset = datasets.ImageFolder(root='./datasets/conv_identification', transform=transform)\n",
    "num_classes = len(dataset.classes)"
   ]
  },
  {
   "cell_type": "code",
   "execution_count": 40,
   "metadata": {},
   "outputs": [],
   "source": [
    "class ConvNet(nn.Module):\n",
    "    def __init__(self, num_classes):\n",
    "        super(ConvNet, self).__init__()\n",
    "        self.conv1 = nn.Conv2d(1, 16, kernel_size=5, stride=1, padding=2)\n",
    "        self.pool = nn.MaxPool2d(kernel_size=2, stride=2, padding=0)\n",
    "        self.conv2 = nn.Conv2d(16, 32, kernel_size=5, stride=1, padding=2)\n",
    "        self.fc1 = nn.Linear(32 * 7 * 7, 120)\n",
    "        self.fc2 = nn.Linear(120, num_classes)\n",
    "        self.dropout = nn.Dropout(0.5)\n",
    "\n",
    "    def forward(self, x):\n",
    "        x = self.pool(torch.relu(self.conv1(x)))\n",
    "        x = self.pool(torch.relu(self.conv2(x)))\n",
    "        x = x.view(-1, 32 * 7 * 7)\n",
    "        x = F.relu(self.fc1(x))\n",
    "        x = self.dropout(x)\n",
    "        x = self.fc2(x)\n",
    "        return x"
   ]
  },
  {
   "cell_type": "code",
   "execution_count": null,
   "metadata": {},
   "outputs": [
    {
     "ename": "TypeError",
     "evalue": "Singleton array array(<torch.utils.data.dataloader.DataLoader object at 0x000001610795EAD0>,\n      dtype=object) cannot be considered a valid collection.",
     "output_type": "error",
     "traceback": [
      "\u001b[1;31m---------------------------------------------------------------------------\u001b[0m",
      "\u001b[1;31mTypeError\u001b[0m                                 Traceback (most recent call last)",
      "Cell \u001b[1;32mIn[41], line 10\u001b[0m\n\u001b[0;32m      6\u001b[0m kfold \u001b[38;5;241m=\u001b[39m KFold(n_splits\u001b[38;5;241m=\u001b[39mk_folds, shuffle\u001b[38;5;241m=\u001b[39m\u001b[38;5;28;01mTrue\u001b[39;00m)\n\u001b[0;32m      8\u001b[0m results \u001b[38;5;241m=\u001b[39m {}\n\u001b[1;32m---> 10\u001b[0m \u001b[38;5;28;01mfor\u001b[39;00m fold, (train_idx, test_idx) \u001b[38;5;129;01min\u001b[39;00m \u001b[38;5;28menumerate\u001b[39m(kfold\u001b[38;5;241m.\u001b[39msplit(k_folds_loader)):\n\u001b[0;32m     11\u001b[0m     \u001b[38;5;28mprint\u001b[39m(\u001b[38;5;124mf\u001b[39m\u001b[38;5;124m'\u001b[39m\u001b[38;5;124mFold \u001b[39m\u001b[38;5;132;01m{\u001b[39;00mfold\u001b[38;5;250m \u001b[39m\u001b[38;5;241m+\u001b[39m\u001b[38;5;250m \u001b[39m\u001b[38;5;241m1\u001b[39m\u001b[38;5;132;01m}\u001b[39;00m\u001b[38;5;124m/\u001b[39m\u001b[38;5;132;01m{\u001b[39;00mk_folds\u001b[38;5;132;01m}\u001b[39;00m\u001b[38;5;124m'\u001b[39m)\n\u001b[0;32m     12\u001b[0m     \u001b[38;5;28mprint\u001b[39m(\u001b[38;5;124m'\u001b[39m\u001b[38;5;124m--------------------------------\u001b[39m\u001b[38;5;124m'\u001b[39m)\n",
      "File \u001b[1;32mc:\\Users\\gerar\\anaconda3\\envs\\aa1\\lib\\site-packages\\sklearn\\model_selection\\_split.py:342\u001b[0m, in \u001b[0;36m_BaseKFold.split\u001b[1;34m(self, X, y, groups)\u001b[0m\n\u001b[0;32m    318\u001b[0m \u001b[38;5;28;01mdef\u001b[39;00m \u001b[38;5;21msplit\u001b[39m(\u001b[38;5;28mself\u001b[39m, X, y\u001b[38;5;241m=\u001b[39m\u001b[38;5;28;01mNone\u001b[39;00m, groups\u001b[38;5;241m=\u001b[39m\u001b[38;5;28;01mNone\u001b[39;00m):\n\u001b[0;32m    319\u001b[0m \u001b[38;5;250m    \u001b[39m\u001b[38;5;124;03m\"\"\"Generate indices to split data into training and test set.\u001b[39;00m\n\u001b[0;32m    320\u001b[0m \n\u001b[0;32m    321\u001b[0m \u001b[38;5;124;03m    Parameters\u001b[39;00m\n\u001b[1;32m   (...)\u001b[0m\n\u001b[0;32m    340\u001b[0m \u001b[38;5;124;03m        The testing set indices for that split.\u001b[39;00m\n\u001b[0;32m    341\u001b[0m \u001b[38;5;124;03m    \"\"\"\u001b[39;00m\n\u001b[1;32m--> 342\u001b[0m     X, y, groups \u001b[38;5;241m=\u001b[39m \u001b[43mindexable\u001b[49m\u001b[43m(\u001b[49m\u001b[43mX\u001b[49m\u001b[43m,\u001b[49m\u001b[43m \u001b[49m\u001b[43my\u001b[49m\u001b[43m,\u001b[49m\u001b[43m \u001b[49m\u001b[43mgroups\u001b[49m\u001b[43m)\u001b[49m\n\u001b[0;32m    343\u001b[0m     n_samples \u001b[38;5;241m=\u001b[39m _num_samples(X)\n\u001b[0;32m    344\u001b[0m     \u001b[38;5;28;01mif\u001b[39;00m \u001b[38;5;28mself\u001b[39m\u001b[38;5;241m.\u001b[39mn_splits \u001b[38;5;241m>\u001b[39m n_samples:\n",
      "File \u001b[1;32mc:\\Users\\gerar\\anaconda3\\envs\\aa1\\lib\\site-packages\\sklearn\\utils\\validation.py:443\u001b[0m, in \u001b[0;36mindexable\u001b[1;34m(*iterables)\u001b[0m\n\u001b[0;32m    424\u001b[0m \u001b[38;5;250m\u001b[39m\u001b[38;5;124;03m\"\"\"Make arrays indexable for cross-validation.\u001b[39;00m\n\u001b[0;32m    425\u001b[0m \n\u001b[0;32m    426\u001b[0m \u001b[38;5;124;03mChecks consistent length, passes through None, and ensures that everything\u001b[39;00m\n\u001b[1;32m   (...)\u001b[0m\n\u001b[0;32m    439\u001b[0m \u001b[38;5;124;03m    sparse matrix, or dataframe) or `None`.\u001b[39;00m\n\u001b[0;32m    440\u001b[0m \u001b[38;5;124;03m\"\"\"\u001b[39;00m\n\u001b[0;32m    442\u001b[0m result \u001b[38;5;241m=\u001b[39m [_make_indexable(X) \u001b[38;5;28;01mfor\u001b[39;00m X \u001b[38;5;129;01min\u001b[39;00m iterables]\n\u001b[1;32m--> 443\u001b[0m \u001b[43mcheck_consistent_length\u001b[49m\u001b[43m(\u001b[49m\u001b[38;5;241;43m*\u001b[39;49m\u001b[43mresult\u001b[49m\u001b[43m)\u001b[49m\n\u001b[0;32m    444\u001b[0m \u001b[38;5;28;01mreturn\u001b[39;00m result\n",
      "File \u001b[1;32mc:\\Users\\gerar\\anaconda3\\envs\\aa1\\lib\\site-packages\\sklearn\\utils\\validation.py:394\u001b[0m, in \u001b[0;36mcheck_consistent_length\u001b[1;34m(*arrays)\u001b[0m\n\u001b[0;32m    383\u001b[0m \u001b[38;5;28;01mdef\u001b[39;00m \u001b[38;5;21mcheck_consistent_length\u001b[39m(\u001b[38;5;241m*\u001b[39marrays):\n\u001b[0;32m    384\u001b[0m \u001b[38;5;250m    \u001b[39m\u001b[38;5;124;03m\"\"\"Check that all arrays have consistent first dimensions.\u001b[39;00m\n\u001b[0;32m    385\u001b[0m \n\u001b[0;32m    386\u001b[0m \u001b[38;5;124;03m    Checks whether all objects in arrays have the same shape or length.\u001b[39;00m\n\u001b[1;32m   (...)\u001b[0m\n\u001b[0;32m    391\u001b[0m \u001b[38;5;124;03m        Objects that will be checked for consistent length.\u001b[39;00m\n\u001b[0;32m    392\u001b[0m \u001b[38;5;124;03m    \"\"\"\u001b[39;00m\n\u001b[1;32m--> 394\u001b[0m     lengths \u001b[38;5;241m=\u001b[39m [_num_samples(X) \u001b[38;5;28;01mfor\u001b[39;00m X \u001b[38;5;129;01min\u001b[39;00m arrays \u001b[38;5;28;01mif\u001b[39;00m X \u001b[38;5;129;01mis\u001b[39;00m \u001b[38;5;129;01mnot\u001b[39;00m \u001b[38;5;28;01mNone\u001b[39;00m]\n\u001b[0;32m    395\u001b[0m     uniques \u001b[38;5;241m=\u001b[39m np\u001b[38;5;241m.\u001b[39munique(lengths)\n\u001b[0;32m    396\u001b[0m     \u001b[38;5;28;01mif\u001b[39;00m \u001b[38;5;28mlen\u001b[39m(uniques) \u001b[38;5;241m>\u001b[39m \u001b[38;5;241m1\u001b[39m:\n",
      "File \u001b[1;32mc:\\Users\\gerar\\anaconda3\\envs\\aa1\\lib\\site-packages\\sklearn\\utils\\validation.py:394\u001b[0m, in \u001b[0;36m<listcomp>\u001b[1;34m(.0)\u001b[0m\n\u001b[0;32m    383\u001b[0m \u001b[38;5;28;01mdef\u001b[39;00m \u001b[38;5;21mcheck_consistent_length\u001b[39m(\u001b[38;5;241m*\u001b[39marrays):\n\u001b[0;32m    384\u001b[0m \u001b[38;5;250m    \u001b[39m\u001b[38;5;124;03m\"\"\"Check that all arrays have consistent first dimensions.\u001b[39;00m\n\u001b[0;32m    385\u001b[0m \n\u001b[0;32m    386\u001b[0m \u001b[38;5;124;03m    Checks whether all objects in arrays have the same shape or length.\u001b[39;00m\n\u001b[1;32m   (...)\u001b[0m\n\u001b[0;32m    391\u001b[0m \u001b[38;5;124;03m        Objects that will be checked for consistent length.\u001b[39;00m\n\u001b[0;32m    392\u001b[0m \u001b[38;5;124;03m    \"\"\"\u001b[39;00m\n\u001b[1;32m--> 394\u001b[0m     lengths \u001b[38;5;241m=\u001b[39m [\u001b[43m_num_samples\u001b[49m\u001b[43m(\u001b[49m\u001b[43mX\u001b[49m\u001b[43m)\u001b[49m \u001b[38;5;28;01mfor\u001b[39;00m X \u001b[38;5;129;01min\u001b[39;00m arrays \u001b[38;5;28;01mif\u001b[39;00m X \u001b[38;5;129;01mis\u001b[39;00m \u001b[38;5;129;01mnot\u001b[39;00m \u001b[38;5;28;01mNone\u001b[39;00m]\n\u001b[0;32m    395\u001b[0m     uniques \u001b[38;5;241m=\u001b[39m np\u001b[38;5;241m.\u001b[39munique(lengths)\n\u001b[0;32m    396\u001b[0m     \u001b[38;5;28;01mif\u001b[39;00m \u001b[38;5;28mlen\u001b[39m(uniques) \u001b[38;5;241m>\u001b[39m \u001b[38;5;241m1\u001b[39m:\n",
      "File \u001b[1;32mc:\\Users\\gerar\\anaconda3\\envs\\aa1\\lib\\site-packages\\sklearn\\utils\\validation.py:335\u001b[0m, in \u001b[0;36m_num_samples\u001b[1;34m(x)\u001b[0m\n\u001b[0;32m    333\u001b[0m \u001b[38;5;28;01mif\u001b[39;00m \u001b[38;5;28mhasattr\u001b[39m(x, \u001b[38;5;124m\"\u001b[39m\u001b[38;5;124mshape\u001b[39m\u001b[38;5;124m\"\u001b[39m) \u001b[38;5;129;01mand\u001b[39;00m x\u001b[38;5;241m.\u001b[39mshape \u001b[38;5;129;01mis\u001b[39;00m \u001b[38;5;129;01mnot\u001b[39;00m \u001b[38;5;28;01mNone\u001b[39;00m:\n\u001b[0;32m    334\u001b[0m     \u001b[38;5;28;01mif\u001b[39;00m \u001b[38;5;28mlen\u001b[39m(x\u001b[38;5;241m.\u001b[39mshape) \u001b[38;5;241m==\u001b[39m \u001b[38;5;241m0\u001b[39m:\n\u001b[1;32m--> 335\u001b[0m         \u001b[38;5;28;01mraise\u001b[39;00m \u001b[38;5;167;01mTypeError\u001b[39;00m(\n\u001b[0;32m    336\u001b[0m             \u001b[38;5;124m\"\u001b[39m\u001b[38;5;124mSingleton array \u001b[39m\u001b[38;5;132;01m%r\u001b[39;00m\u001b[38;5;124m cannot be considered a valid collection.\u001b[39m\u001b[38;5;124m\"\u001b[39m \u001b[38;5;241m%\u001b[39m x\n\u001b[0;32m    337\u001b[0m         )\n\u001b[0;32m    338\u001b[0m     \u001b[38;5;66;03m# Check that shape is returning an integer or default to len\u001b[39;00m\n\u001b[0;32m    339\u001b[0m     \u001b[38;5;66;03m# Dask dataframes may not return numeric shape[0] value\u001b[39;00m\n\u001b[0;32m    340\u001b[0m     \u001b[38;5;28;01mif\u001b[39;00m \u001b[38;5;28misinstance\u001b[39m(x\u001b[38;5;241m.\u001b[39mshape[\u001b[38;5;241m0\u001b[39m], numbers\u001b[38;5;241m.\u001b[39mIntegral):\n",
      "\u001b[1;31mTypeError\u001b[0m: Singleton array array(<torch.utils.data.dataloader.DataLoader object at 0x000001610795EAD0>,\n      dtype=object) cannot be considered a valid collection."
     ]
    }
   ],
   "source": [
    "num_epochs = 10\n",
    "k_folds = 5\n",
    "batch_size = 32\n",
    "learning_rate = 0.001\n",
    "\n",
    "kfold = KFold(n_splits=k_folds, shuffle=True)\n",
    "\n",
    "results = {}\n",
    "\n",
    "for fold, (train_idx, test_idx) in enumerate(kfold.split(dataset)):\n",
    "    print(f'Fold {fold + 1}/{k_folds}')\n",
    "    print('--------------------------------')\n",
    "\n",
    "    # Crear los subsets de entrenamiento y validación\n",
    "    train_subset = Subset(dataset, train_idx)\n",
    "    test_subset = Subset(dataset, test_idx)\n",
    "\n",
    "    train_loader = DataLoader(train_subset, batch_size=batch_size, shuffle=True)\n",
    "    test_loader = DataLoader(test_subset, batch_size=batch_size, shuffle=False)\n",
    "\n",
    "    # Instanciar el modelo, optimizador y función de pérdida\n",
    "    model = ConvNet(num_classes=num_classes)\n",
    "    criterion = nn.CrossEntropyLoss()\n",
    "    optimizer = optim.Adam(model.parameters(), lr=learning_rate)\n",
    "\n",
    "    # Entrenar el modelo\n",
    "    for epoch in range(num_epochs):\n",
    "        model.train()\n",
    "        running_loss = 0.0\n",
    "        for inputs, labels in train_loader:\n",
    "            optimizer.zero_grad()\n",
    "            outputs = model(inputs)\n",
    "            loss = criterion(outputs, labels)\n",
    "            loss.backward()\n",
    "            optimizer.step()\n",
    "            running_loss += loss.item()\n",
    "        print(f\"Epoch {epoch + 1}/{num_epochs}, Loss: {running_loss / len(train_loader)}\")\n",
    "\n",
    "    # Evaluar en el conjunto de validación\n",
    "    model.eval()\n",
    "    correct, total = 0, 0\n",
    "    with torch.no_grad():\n",
    "        for inputs, labels in test_loader:\n",
    "            outputs = model(inputs)\n",
    "            _, predicted = torch.max(outputs, 1)\n",
    "            total += labels.size(0)\n",
    "            correct += (predicted == labels).sum().item()\n",
    "\n",
    "    accuracy = 100.0 * correct / total\n",
    "    print(f'Fold {fold + 1} Accuracy: {accuracy}%')\n",
    "    print('--------------------------------')\n",
    "    \n",
    "    # Guardar el resultado del fold actual\n",
    "    results[fold] = accuracy\n",
    "\n",
    "# Resultados finales\n",
    "print(f\"K-Fold Cross Validation Results for {k_folds} folds\")\n",
    "for fold, acc in results.items():\n",
    "    print(f\"Fold {fold + 1}: {acc}%\")\n",
    "print(f\"Average Accuracy: {sum(results.values()) / k_folds}%\")"
   ]
  }
 ],
 "metadata": {
  "kernelspec": {
   "display_name": "aa1",
   "language": "python",
   "name": "python3"
  },
  "language_info": {
   "codemirror_mode": {
    "name": "ipython",
    "version": 3
   },
   "file_extension": ".py",
   "mimetype": "text/x-python",
   "name": "python",
   "nbconvert_exporter": "python",
   "pygments_lexer": "ipython3",
   "version": "3.10.9"
  }
 },
 "nbformat": 4,
 "nbformat_minor": 2
}
