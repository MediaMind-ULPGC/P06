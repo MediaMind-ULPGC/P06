{
 "cells": [
  {
   "cell_type": "code",
   "execution_count": 2,
   "metadata": {},
   "outputs": [],
   "source": [
    "import os\n",
    "import cv2 as cv\n",
    "import matplotlib.pyplot as plt"
   ]
  },
  {
   "cell_type": "code",
   "execution_count": 3,
   "metadata": {},
   "outputs": [
    {
     "name": "stdout",
     "output_type": "stream",
     "text": [
      "['crd_0811f', 'crd_0812f', 'crd_0813f', 'crd_0814f', 'crd_0815f', 'crd_0816f', 'crd_0817f', 'crd_0818f', 'crd_0819f', 'crd_0820f']\n"
     ]
    }
   ],
   "source": [
    "#muestra que se quiere comparar\n",
    "\n",
    "sample_path = r\"\\BaseDatosNISTsd09_pr\"\n",
    "sample_path = os.getcwd()+sample_path\n",
    "files= os.listdir(sample_path)\n",
    "\n",
    "# Busca en el directorio a cada uno de los sujetos\n",
    "counter=0 \n",
    "print(files)\n",
    "for file in files:\n",
    "    dir = sample_path +'\\\\'\n",
    "    dir = dir + file + '\\\\'\n",
    "    file2= os.listdir(dir)\n",
    "    ruta=dir+'\\\\'+file2[0]\n",
    "    sample = cv.imread(ruta) #muestras para tomar de referencia\n",
    "    counter+=1\n",
    "    #segundo bucle para comparar con todas\n",
    "    for file in files:\n",
    "        dir = sample_path +'\\\\'\n",
    "        dir = dir + file + '\\\\'\n",
    "        file2= os.listdir(dir)\n",
    "        ruta=dir+'\\\\'+file2[1] \n",
    "        sample2 = cv.imread(ruta) #muestras para tomar de referencia\n",
    "     \n",
    "    \n",
    "    \n",
    "    "
   ]
  },
  {
   "cell_type": "markdown",
   "metadata": {},
   "source": [
    "A partir de la base de datos proporcionada, se realizará un programa que permita identificar las huellas del mismo usuario y descartar el resto, dando información cuantitativa de la similitud entre las huellas, pudiendo utilizar openCV, numpy, os, PyTorch,..., pero no funciones descargadas especialmente para trabajar con huellas dactilares.\n",
    "\n",
    "Se obtendrá la función densidad de probabilidad, la curva DET, la curva ROC., el valor EER y el valor AUC.\n",
    "\n",
    "Se realizará un póster (una única transparencia) y se presentará durante la última semana de clase. Además, se entregará el código usado.\n",
    "\n",
    "En la presentación tienen que tratarse los siguientes puntos:\n",
    "\n",
    "-Hipótesis de partida.\n",
    "\n",
    "-Metodología utilizada y explicación de su desarrollo.\n",
    "\n",
    "-Resultados (curvas, EER y AUC).\n",
    "\n",
    "-Conclusiones.\n",
    "\n",
    "-Fuentes principales consultadas."
   ]
  },
  {
   "cell_type": "code",
   "execution_count": 4,
   "metadata": {},
   "outputs": [],
   "source": [
    "#TODO:\n",
    "# 1. Limpieza: id y separar la huella\n",
    "# 2. Eliminación de ruido\n",
    "\n",
    "#TODO: Data augmentation\n",
    "# 1. Rotación: tener en cuenta el fondo\n",
    "# luminosidad\n",
    "\n",
    "#TODO: Moselo / sistema / lo q sea\n",
    "# SIFT\n",
    "# CONVOLUTIVA\n",
    "\n",
    "# MATCHING DE PATRONES"
   ]
  },
  {
   "cell_type": "code",
   "execution_count": 5,
   "metadata": {},
   "outputs": [],
   "source": [
    "import cv2 as cv\n",
    "import matplotlib.pyplot as plt\n",
    "import numpy as np\n",
    "import os"
   ]
  },
  {
   "cell_type": "markdown",
   "metadata": {},
   "source": [
    "## 1. Limpieza del dataset"
   ]
  },
  {
   "cell_type": "code",
   "execution_count": null,
   "metadata": {},
   "outputs": [],
   "source": []
  },
  {
   "cell_type": "markdown",
   "metadata": {},
   "source": [
    "### 1.2. Extraer la huella de la imagen"
   ]
  },
  {
   "cell_type": "code",
   "execution_count": null,
   "metadata": {},
   "outputs": [],
   "source": [
    "from clean_dataset.functions import binarize, cut_image, write_image"
   ]
  },
  {
   "cell_type": "code",
   "execution_count": null,
   "metadata": {},
   "outputs": [],
   "source": [
    "def build_dataset(sample_path, subfolders, dataset_path):\n",
    "    for subfolder in subfolders:\n",
    "        path = os.listdir(sample_path+'\\\\'+subfolder)\n",
    "        output_folder = dataset_path + '/' + subfolder\n",
    "        if not os.path.exists(output_folder):\n",
    "            os.mkdir(output_folder)\n",
    "\n",
    "        for file in path:\n",
    "            route = sample_path+'\\\\'+subfolder+'\\\\'+file\n",
    "            img = cv.imread(route)\n",
    "            gray = cv.cvtColor(img, cv.COLOR_BGR2GRAY)\n",
    "\n",
    "            binary = binarize(gray)\n",
    "            cutted_image = cut_image(img, binary)\n",
    "            write_image(cutted_image, output_folder, file)"
   ]
  },
  {
   "cell_type": "code",
   "execution_count": null,
   "metadata": {},
   "outputs": [],
   "source": [
    "sample_path = r\"\\BaseDatosNISTsd09_pr\"\n",
    "dataset_path = \"./Datasets\"\n",
    "sample_path = os.getcwd()+sample_path\n",
    "subfolders= os.listdir(sample_path)\n",
    "porcentaje = 0.90\n",
    "\n",
    "build_dataset(sample_path, subfolders, dataset_path)"
   ]
  },
  {
   "cell_type": "markdown",
   "metadata": {},
   "source": [
    "### 1.3. Eliminación de ruido"
   ]
  },
  {
   "cell_type": "code",
   "execution_count": null,
   "metadata": {},
   "outputs": [],
   "source": []
  },
  {
   "cell_type": "code",
   "execution_count": null,
   "metadata": {},
   "outputs": [],
   "source": [
    "# grayscale = cv2.cvtColor(adjusted, cv2.COLOR_RGB2GRAY)\n",
    "# "
   ]
  },
  {
   "cell_type": "markdown",
   "metadata": {},
   "source": [
    "## 2. Aumento de datos (Data Augmentation)"
   ]
  },
  {
   "cell_type": "code",
   "execution_count": null,
   "metadata": {},
   "outputs": [],
   "source": []
  },
  {
   "cell_type": "markdown",
   "metadata": {},
   "source": [
    "## 3. Planteamiento del sistema"
   ]
  },
  {
   "cell_type": "code",
   "execution_count": null,
   "metadata": {},
   "outputs": [],
   "source": []
  },
  {
   "cell_type": "markdown",
   "metadata": {},
   "source": []
  },
  {
   "cell_type": "markdown",
   "metadata": {},
   "source": []
  }
 ],
 "metadata": {
  "kernelspec": {
   "display_name": "piav",
   "language": "python",
   "name": "python3"
  },
  "language_info": {
   "codemirror_mode": {
    "name": "ipython",
    "version": 3
   },
   "file_extension": ".py",
   "mimetype": "text/x-python",
   "name": "python",
   "nbconvert_exporter": "python",
   "pygments_lexer": "ipython3",
   "version": "3.10.14"
  }
 },
 "nbformat": 4,
 "nbformat_minor": 2
}
