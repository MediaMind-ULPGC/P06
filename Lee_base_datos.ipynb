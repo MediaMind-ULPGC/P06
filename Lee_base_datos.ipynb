{
 "cells": [
  {
   "cell_type": "code",
   "execution_count": 55,
   "metadata": {},
   "outputs": [],
   "source": [
    "import cv2 as cv\n",
    "import matplotlib.pyplot as plt\n",
    "import os\n",
    "import numpy as np\n",
    "from sklearn.metrics import auc, roc_curve\n",
    "import warnings\n",
    "\n",
    "import torchvision.models as models\n",
    "import torch\n",
    "import torch.nn as nn\n",
    "import torchvision.models as models\n",
    "from torchvision import transforms\n",
    "from scipy.spatial.distance import cosine"
   ]
  },
  {
   "cell_type": "markdown",
   "metadata": {},
   "source": [
    "A partir de la base de datos proporcionada, se realizará un programa que permita identificar las huellas del mismo usuario y descartar el resto, dando información cuantitativa de la similitud entre las huellas, pudiendo utilizar openCV, numpy, os, PyTorch,..., pero no funciones descargadas especialmente para trabajar con huellas dactilares.\n",
    "\n",
    "Se obtendrá la función densidad de probabilidad, la curva DET, la curva ROC., el valor EER y el valor AUC.\n",
    "\n",
    "Se realizará un póster (una única transparencia) y se presentará durante la última semana de clase. Además, se entregará el código usado.\n",
    "\n",
    "En la presentación tienen que tratarse los siguientes puntos:\n",
    "\n",
    "-Hipótesis de partida.\n",
    "\n",
    "-Metodología utilizada y explicación de su desarrollo.\n",
    "\n",
    "-Resultados (curvas, EER y AUC).\n",
    "\n",
    "-Conclusiones.\n",
    "\n",
    "-Fuentes principales consultadas."
   ]
  },
  {
   "cell_type": "markdown",
   "metadata": {},
   "source": [
    "## 1. Limpieza del dataset"
   ]
  },
  {
   "cell_type": "markdown",
   "metadata": {},
   "source": [
    "### 1.2. Extraer la huella de la imagen"
   ]
  },
  {
   "cell_type": "code",
   "execution_count": 3,
   "metadata": {},
   "outputs": [],
   "source": [
    "from clean_dataset.hand_cleaning import build_dataset\n",
    "from clean_dataset.scikit_cleaning  import build_dataset_frangi"
   ]
  },
  {
   "cell_type": "code",
   "execution_count": 4,
   "metadata": {},
   "outputs": [],
   "source": [
    "sample_path = r\"\\BaseDatosNISTsd09_pr\"\n",
    "output_hand_dataset = \"./datasets/hand_dataset\"\n",
    "output_frangi_dataset = \"./datasets/frangi_dataset\"\n",
    "sample_path = os.getcwd()+sample_path\n",
    "subfolders= os.listdir(sample_path)\n",
    "\n",
    "build_dataset_frangi(sample_path, subfolders, output_frangi_dataset)\n",
    "build_dataset(sample_path, subfolders, output_hand_dataset)"
   ]
  },
  {
   "cell_type": "markdown",
   "metadata": {},
   "source": [
    "## 2. Planteamiento del sistema"
   ]
  },
  {
   "cell_type": "code",
   "execution_count": 7,
   "metadata": {},
   "outputs": [],
   "source": [
    "sample_path = r\"\\BaseDatosNISTsd09_pr\"\n",
    "output_hand_dataset = \"./datasets/hand_dataset\"\n",
    "output_frangi_dataset = \"./datasets/frangi_dataset\"\n",
    "sample_path = os.getcwd()+sample_path\n",
    "subfolders= os.listdir(sample_path)"
   ]
  },
  {
   "cell_type": "code",
   "execution_count": 8,
   "metadata": {},
   "outputs": [
    {
     "name": "stdout",
     "output_type": "stream",
     "text": [
      "{'crd_0811f_01.png': 1, 'crd_0811s_01.png': 1, 'crd_0812f_01.png': 1, 'crd_0812s_01.png': 1, 'crd_0813f_01.png': 1, 'crd_0813s_01.png': 1, 'crd_0814f_01.png': 1, 'crd_0814s_01.png': 1, 'crd_0815f_01.png': 1, 'crd_0815s_01.png': 1, 'crd_0816f_01.png': 1, 'crd_0816s_01.png': 1, 'crd_0817f_01.png': 1, 'crd_0817s_01.png': 1, 'crd_0818f_01.png': 0, 'crd_0818s_01.png': 0, 'crd_0819f_01.png': 0, 'crd_0819s_01.png': 0, 'crd_0820f_01.png': 0, 'crd_0820s_01.png': 0}\n"
     ]
    }
   ],
   "source": [
    "targets = {}\n",
    "i = 0\n",
    "\n",
    "for folder in subfolders:\n",
    "    for file in os.listdir(sample_path + \"/\" + folder):\n",
    "        targets[file] = 1\n",
    "    if i == 6:\n",
    "        break\n",
    "    i += 1\n",
    "\n",
    "i = 0\n",
    "for folder in subfolders:\n",
    "    if i > 6:\n",
    "        for file in os.listdir(sample_path + \"/\" + folder):\n",
    "            targets[file] = 0\n",
    "    i += 1\n",
    "\n",
    "print(targets)"
   ]
  },
  {
   "cell_type": "markdown",
   "metadata": {},
   "source": [
    "### 2.1. SIFT (Scale-Invariant Feature Transform)"
   ]
  },
  {
   "cell_type": "code",
   "execution_count": 9,
   "metadata": {},
   "outputs": [],
   "source": [
    "dataset_path = output_frangi_dataset\n",
    "users = {}\n",
    "i = 0\n",
    "\n",
    "for subfolder in subfolders:\n",
    "    path = os.listdir(dataset_path + '\\\\' + subfolder)\n",
    "    route = dataset_path + '\\\\' + subfolder + '\\\\' + path[0]\n",
    "\n",
    "    img = cv.imread(route)\n",
    "    gray = cv.cvtColor(img, cv.COLOR_BGR2GRAY)\n",
    "\n",
    "    sift = cv.SIFT_create()\n",
    "    kp, des = sift.detectAndCompute(gray, None)\n",
    "    users[path[0]] = (kp, des, path[0])\n",
    "    if i == 6:\n",
    "        break\n",
    "    i += 1\n"
   ]
  },
  {
   "cell_type": "code",
   "execution_count": 10,
   "metadata": {},
   "outputs": [],
   "source": [
    "for subfolder in subfolders:\n",
    "    path = os.listdir(dataset_path + '\\\\' + subfolder)\n",
    "    route = dataset_path + '\\\\' + subfolder + '\\\\' + path[0]\n",
    "    os.remove(route)"
   ]
  },
  {
   "cell_type": "code",
   "execution_count": 11,
   "metadata": {},
   "outputs": [],
   "source": [
    "def find_match(new_kp, new_des, users, threshold=230):\n",
    "    bf = cv.BFMatcher(cv.NORM_L2, crossCheck=True)\n",
    "    for user_id, (kp, des, img) in users.items(): \n",
    "        matches = bf.match(new_des, des)\n",
    "        sorted_matches = sorted(matches, key=lambda x: x.distance)\n",
    "\n",
    "        if sorted_matches and sorted_matches[0].distance < threshold:\n",
    "            return True, img\n",
    "\n",
    "    return False, None "
   ]
  },
  {
   "cell_type": "markdown",
   "metadata": {},
   "source": [
    "#### 1. Curva DET y EER"
   ]
  },
  {
   "cell_type": "code",
   "execution_count": 38,
   "metadata": {},
   "outputs": [],
   "source": [
    "correct = 0\n",
    "true_positive = 0\n",
    "true_negative = 0\n",
    "total = 0\n",
    "thresholds = np.linspace(0, 500, 300)\n",
    "\n",
    "false_accepted = []\n",
    "false_rejected = []\n",
    "int_usuario_no = 6\n",
    "int_usuarios_si = 7\n",
    "\n",
    "dataset_path\n",
    "\n",
    "for threshold in thresholds:\n",
    "    number_false_rejected = 0\n",
    "    number_false_accepted = 0\n",
    "    for subfolder in subfolders:\n",
    "        for file in os.listdir(dataset_path + '\\\\' + subfolder):\n",
    "            path = dataset_path + '\\\\' + subfolder + '\\\\' + file\n",
    "            true_target = targets[file]\n",
    "            img = cv.imread(path)\n",
    "            gray = cv.cvtColor(img, cv.COLOR_BGR2GRAY)\n",
    "\n",
    "            sift = cv.SIFT_create()\n",
    "            kp, des = sift.detectAndCompute(gray, None)\n",
    "            sift = cv.SIFT_create()\n",
    "            new_kp, new_des = sift.detectAndCompute(gray, None)\n",
    "\n",
    "            result, img_name = find_match(new_kp, new_des, users, threshold)\n",
    "            if int(result) == 0 and true_target == 1:\n",
    "                number_false_rejected += 1\n",
    "            \n",
    "            elif int(result) == 1 and true_target == 0:\n",
    "                number_false_accepted += 1\n",
    "            \n",
    "            elif int(result) == true_target:\n",
    "                correct += 1\n",
    "            total += 1\n",
    "    far = number_false_accepted / int_usuario_no\n",
    "    frr = number_false_rejected / int_usuarios_si\n",
    "\n",
    "    false_accepted.append(far)\n",
    "    false_rejected.append(frr)"
   ]
  },
  {
   "cell_type": "code",
   "execution_count": 39,
   "metadata": {},
   "outputs": [
    {
     "data": {
      "image/png": "[encoded data removed]",
      "text/plain": [
       "<Figure size 640x480 with 1 Axes>"
      ]
     },
     "metadata": {},
     "output_type": "display_data"
    }
   ],
   "source": [
    "plt.plot(false_accepted, false_rejected, 'o', alpha=0.5)\n",
    "plt.xlabel(\"False accepted\")\n",
    "plt.ylabel(\"False rejected\")\n",
    "plt.xticks(np.arange(0, 1.1, 0.1))\n",
    "plt.yticks(np.arange(0, 1.1, 0.1))\n",
    "plt.show()"
   ]
  },
  {
   "cell_type": "code",
   "execution_count": 40,
   "metadata": {},
   "outputs": [
    {
     "name": "stdout",
     "output_type": "stream",
     "text": [
      "Correct:  1542\n",
      "Total:  3000\n",
      "True positive:  0\n",
      "True negative:  0\n",
      "Accuracy:  51.4 %\n"
     ]
    }
   ],
   "source": [
    "print(\"Correct: \", correct)\n",
    "print(\"Total: \", total)\n",
    "print(\"True positive: \", true_positive)\n",
    "print(\"True negative: \", true_negative)\n",
    "print(\"Accuracy: \", correct / total * 100, \"%\")"
   ]
  },
  {
   "cell_type": "markdown",
   "metadata": {},
   "source": [
    "sift da un 40% de mierd"
   ]
  },
  {
   "cell_type": "markdown",
   "metadata": {},
   "source": [
    "#### 2. Densidad de probabilidad"
   ]
  },
  {
   "cell_type": "markdown",
   "metadata": {},
   "source": [
    "#### 3. Curva ROC y AUC"
   ]
  },
  {
   "cell_type": "code",
   "execution_count": 41,
   "metadata": {},
   "outputs": [],
   "source": [
    "true_positive_rates = []\n",
    "false_positive_rates = []\n",
    "thresholds = np.linspace(0, 500, 300)\n",
    "\n",
    "for threshold in thresholds:\n",
    "    number_false_rejected = 0\n",
    "    number_false_accepted = 0\n",
    "    true_positive = 0\n",
    "    true_negative = 0\n",
    "    total_positive = 0\n",
    "    total_negative = 0\n",
    "\n",
    "    for subfolder in subfolders:\n",
    "        for file in os.listdir(dataset_path + '\\\\' + subfolder):\n",
    "            path = dataset_path + '\\\\' + subfolder + '\\\\' + file\n",
    "            true_target = targets[file]\n",
    "            img = cv.imread(path)\n",
    "            gray = cv.cvtColor(img, cv.COLOR_BGR2GRAY)\n",
    "\n",
    "            sift = cv.SIFT_create()\n",
    "            new_kp, new_des = sift.detectAndCompute(gray, None)\n",
    "\n",
    "            result, img_name = find_match(new_kp, new_des, users, threshold)\n",
    "\n",
    "            if true_target == 1:\n",
    "                total_positive += 1\n",
    "                if int(result) == 1:\n",
    "                    true_positive += 1\n",
    "                else:\n",
    "                    number_false_rejected += 1\n",
    "            else:\n",
    "                total_negative += 1\n",
    "                if int(result) == 0:\n",
    "                    true_negative += 1\n",
    "                else:\n",
    "                    number_false_accepted += 1\n",
    "\n",
    "    tpr = true_positive / total_positive if total_positive else 0\n",
    "    fpr = number_false_accepted / total_negative if total_negative else 0\n",
    "\n",
    "    true_positive_rates.append(tpr)\n",
    "    false_positive_rates.append(fpr)"
   ]
  },
  {
   "cell_type": "code",
   "execution_count": 42,
   "metadata": {},
   "outputs": [
    {
     "data": {
      "image/png": "[encoded data removed]",
      "text/plain": [
       "<Figure size 800x600 with 1 Axes>"
      ]
     },
     "metadata": {},
     "output_type": "display_data"
    }
   ],
   "source": [
    "plt.figure(figsize=(8, 6))\n",
    "plt.plot(false_positive_rates, true_positive_rates, marker='o', label='ROC Curve')\n",
    "plt.plot([0, 1], [0, 1], linestyle='--', color='gray', label='Random Guess')\n",
    "plt.xlabel(\"False Positive Rate (FPR)\")\n",
    "plt.ylabel(\"True Positive Rate (TPR)\")\n",
    "plt.title(\"ROC Curve\")\n",
    "plt.legend()\n",
    "plt.grid(alpha=0.5)\n",
    "plt.show()"
   ]
  },
  {
   "cell_type": "code",
   "execution_count": 45,
   "metadata": {},
   "outputs": [
    {
     "name": "stdout",
     "output_type": "stream",
     "text": [
      "Área bajo la curva (AUC): 0.40476190476190477\n"
     ]
    }
   ],
   "source": [
    "roc_auc = auc(false_positive_rates, true_positive_rates)\n",
    "print(f\"Área bajo la curva (AUC): {roc_auc}\")"
   ]
  },
  {
   "cell_type": "markdown",
   "metadata": {},
   "source": [
    "### 2.2. ResNet pre-entrenada"
   ]
  },
  {
   "cell_type": "code",
   "execution_count": 51,
   "metadata": {},
   "outputs": [],
   "source": [
    "def extract_features(img_path, model):\n",
    "    model.eval()\n",
    "    image = cv.imread(img_path)\n",
    "    image = cv.cvtColor(image, cv.COLOR_BGR2RGB)\n",
    "\n",
    "    preprocess = transforms.Compose([\n",
    "        transforms.ToPILImage(),\n",
    "        transforms.Resize((224, 224)),\n",
    "        transforms.ToTensor(),\n",
    "        transforms.Normalize(mean=[0.485, 0.456, 0.406], std=[0.229, 0.224, 0.225]),\n",
    "    ])\n",
    "    image = preprocess(image).unsqueeze(0)\n",
    "\n",
    "    with torch.no_grad():\n",
    "        features = model(image).squeeze().numpy()\n",
    "    return features\n",
    "\n",
    "def compare_fingerprints(users, v2, threshold=0.1):\n",
    "    for idx, user in enumerate(users):\n",
    "        user = user.flatten() if user.ndim > 1 else user\n",
    "        v2 = v2.flatten() if v2.ndim > 1 else v2\n",
    "        \n",
    "        distance = cosine(user, v2)\n",
    "        if distance < threshold:\n",
    "            return True\n",
    "    return False"
   ]
  },
  {
   "cell_type": "code",
   "execution_count": 52,
   "metadata": {},
   "outputs": [],
   "source": [
    "warnings.filterwarnings(\"ignore\")\n",
    "model = models.resnet50(pretrained=True)\n",
    "model = nn.Sequential(*list(model.children())[:-1])"
   ]
  },
  {
   "cell_type": "code",
   "execution_count": 49,
   "metadata": {},
   "outputs": [],
   "source": [
    "users = []\n",
    "sample_path = r\"\\BaseDatosNISTsd09_pr\"\n",
    "dataset_path = \"./datasets/hand_dataset\"\n",
    "sample_path = os.getcwd() + sample_path\n",
    "subfolders = os.listdir(sample_path)\n",
    "\n",
    "for i, subfolder in enumerate(subfolders[:6]):\n",
    "    path = os.listdir(dataset_path + '\\\\' + subfolder)\n",
    "    route = dataset_path + '\\\\' + subfolder + '\\\\' + path[0]\n",
    "    vector = extract_features(route, model)\n",
    "    users.append(vector)"
   ]
  },
  {
   "cell_type": "code",
   "execution_count": 53,
   "metadata": {},
   "outputs": [],
   "source": [
    "correct = 0\n",
    "true_positive = 0\n",
    "true_negative = 0\n",
    "total = 0\n",
    "\n",
    "thresholds = np.linspace(0, 1, 100)\n",
    "false_accepted = []\n",
    "false_rejected = []\n",
    "int_usuario_no = 6\n",
    "int_usuarios_si = 7\n",
    "\n",
    "distances = []\n",
    "labels = []\n",
    "\n",
    "for threshold in thresholds:\n",
    "    number_false_rejected = 0\n",
    "    number_false_accepted = 0\n",
    "\n",
    "    for subfolder in subfolders:\n",
    "        path = os.listdir(dataset_path + '\\\\' + subfolder)\n",
    "        \n",
    "        for file_name in path:\n",
    "            route = dataset_path + '\\\\' + subfolder + '\\\\' + file_name\n",
    "            true_target = targets[file_name]\n",
    "            v2 = extract_features(route, model)\n",
    "            \n",
    "            result = compare_fingerprints(users, v2, threshold)\n",
    "            \n",
    "\n",
    "            if int(result) == 0 and true_target == 1:\n",
    "                number_false_rejected += 1\n",
    "            \n",
    "            elif int(result) == 1 and true_target == 0:\n",
    "                number_false_accepted += 1\n",
    "            \n",
    "            elif int(result) == true_target:\n",
    "                correct += 1\n",
    "            total += 1\n",
    "    far = number_false_accepted / int_usuario_no\n",
    "    frr = number_false_rejected / int_usuarios_si\n",
    "\n",
    "    false_accepted.append(far)\n",
    "    false_rejected.append(frr)\n"
   ]
  },
  {
   "cell_type": "code",
   "execution_count": 54,
   "metadata": {},
   "outputs": [
    {
     "data": {
      "image/png": "[encoded data removed]",
      "text/plain": [
       "<Figure size 640x480 with 1 Axes>"
      ]
     },
     "metadata": {},
     "output_type": "display_data"
    }
   ],
   "source": [
    "plt.plot(false_accepted, false_rejected, 'o', alpha=0.5)\n",
    "plt.xlabel(\"False accepted\")\n",
    "plt.ylabel(\"False rejected\")\n",
    "plt.xticks(np.arange(0, 1.1, 0.1))\n",
    "plt.yticks(np.arange(0, 1.1, 0.1))\n",
    "plt.show()"
   ]
  },
  {
   "cell_type": "markdown",
   "metadata": {},
   "source": [
    "el error rate es 0.3"
   ]
  },
  {
   "cell_type": "markdown",
   "metadata": {},
   "source": [
    "#### 2. Densidad de probabilidad"
   ]
  },
  {
   "cell_type": "markdown",
   "metadata": {},
   "source": [
    "#### 3. Curva ROC y AUC"
   ]
  },
  {
   "cell_type": "code",
   "execution_count": 56,
   "metadata": {},
   "outputs": [],
   "source": [
    "distances = []\n",
    "labels = []\n",
    "\n",
    "for subfolder in subfolders:\n",
    "    path = os.listdir(dataset_path + '\\\\' + subfolder)\n",
    "    \n",
    "    for file_name in path:\n",
    "        route = dataset_path + '\\\\' + subfolder + '\\\\' + file_name\n",
    "        true_target = targets[file_name]\n",
    "        v2 = extract_features(route, model)\n",
    "        \n",
    "        distance = cosine(users[0], v2)\n",
    "        distances.append(distance)\n",
    "        labels.append(true_target)"
   ]
  },
  {
   "cell_type": "code",
   "execution_count": 61,
   "metadata": {},
   "outputs": [
    {
     "data": {
      "image/png": "[encoded data removed]",
      "text/plain": [
       "<Figure size 640x480 with 1 Axes>"
      ]
     },
     "metadata": {},
     "output_type": "display_data"
    },
    {
     "name": "stdout",
     "output_type": "stream",
     "text": [
      "AUC: 0.6548\n"
     ]
    }
   ],
   "source": [
    "distances = np.array(distances)\n",
    "labels = np.array(labels)\n",
    "\n",
    "fpr, tpr, thresholds = roc_curve(labels, -distances)\n",
    "roc_auc = auc(fpr, tpr)\n",
    "\n",
    "plt.figure()\n",
    "plt.plot(fpr, tpr, label=f'ROC curve (AUC = {roc_auc:.2f})', marker='o')\n",
    "plt.plot([0, 1], [0, 1], 'k--', label=\"Random chance\")\n",
    "plt.xlim([0.0, 1.0])\n",
    "plt.ylim([0.0, 1.05])\n",
    "plt.xlabel('False Positive Rate (FPR)')\n",
    "plt.ylabel('True Positive Rate (TPR)')\n",
    "plt.title('ROC Curve')\n",
    "plt.legend(loc=\"lower right\")\n",
    "plt.show()\n",
    "\n",
    "print(f\"AUC: {roc_auc:.4f}\")"
   ]
  },
  {
   "cell_type": "markdown",
   "metadata": {},
   "source": [
    "### 2.3 Red Convolutiva desde cero"
   ]
  },
  {
   "cell_type": "markdown",
   "metadata": {},
   "source": [
    "#### Data Augmentation"
   ]
  },
  {
   "cell_type": "code",
   "execution_count": 9,
   "metadata": {},
   "outputs": [],
   "source": [
    "import os\n",
    "import cv2 as cv\n",
    "\n",
    "def generate_rotated_img(img, angle, base_name, extension, root):\n",
    "    (h, w) = img.shape[:2]\n",
    "    center = (w // 2, h // 2)\n",
    "    M = cv.getRotationMatrix2D(center, angle, 1.0)\n",
    "    rotated_img = cv.warpAffine(img, M, (w, h))\n",
    "    rotated_image_path = os.path.join(root, f\"{base_name}_{angle}_grades{extension}\")\n",
    "    cv.imwrite(rotated_image_path, rotated_img)\n",
    "\n",
    "def rotate_images_in_directory(directory):\n",
    "    for root, _, files in os.walk(directory):\n",
    "        for file in files:\n",
    "            if file.lower().endswith(('png', 'jpg', 'jpeg', 'bmp', 'gif')):\n",
    "                image_path = os.path.join(root, file)\n",
    "                img = cv.imread(image_path)\n",
    "                base_name = os.path.splitext(file)[0]\n",
    "                extension = os.path.splitext(file)[1]\n",
    "                for angle in range(1, 181):\n",
    "                    generate_rotated_img(img, angle, base_name, extension, root)"
   ]
  },
  {
   "cell_type": "markdown",
   "metadata": {},
   "source": [
    "#### Identificación y autentificación"
   ]
  },
  {
   "cell_type": "code",
   "execution_count": 17,
   "metadata": {},
   "outputs": [],
   "source": [
    "from torchvision.datasets import ImageFolder\n",
    "from torch.utils.data import DataLoader, random_split\n",
    "from torchvision import transforms\n",
    "\n",
    "transform = transforms.Compose([\n",
    "    transforms.Grayscale(num_output_channels=1),\n",
    "    transforms.Resize((28, 28)),\n",
    "    transforms.RandomRotation(10),  # Rotación aleatoria\n",
    "    transforms.RandomHorizontalFlip(),  # Volteo horizontal\n",
    "    transforms.ToTensor(),\n",
    "    transforms.Normalize((0.5,), (0.5,))\n",
    "])\n",
    "\n",
    "dataset_train = ImageFolder(\"./datasets/conv_ide_auten_train\", transform=transform)\n",
    "dataset = ImageFolder(\"./datasets/conv_ide_auten\", transform=transform)\n",
    "\n",
    "train_size = int(0.7 * len(dataset_train))\n",
    "test_size = int(0.2 * len(dataset_train)) \n",
    "eval_size = int(0.1 * len(dataset_train))\n",
    "train_dataset, _, eval_dataset = random_split(dataset_train, [train_size, test_size, eval_size])\n",
    "\n",
    "_ = int(0.7 * len(dataset))\n",
    "test_size = int(0.3 * len(dataset))\n",
    "test_dataset, _ = random_split(dataset, [test_size, _])\n",
    "\n",
    "\n",
    "train_loader = DataLoader(train_dataset, batch_size=32, shuffle=True)\n",
    "test_loader = DataLoader(test_dataset, batch_size=32, shuffle=False)\n",
    "eval_loader = DataLoader(eval_dataset, batch_size=32, shuffle=False)"
   ]
  },
  {
   "cell_type": "code",
   "execution_count": 18,
   "metadata": {},
   "outputs": [],
   "source": [
    "import torch.nn as nn\n",
    "import torch.nn.functional as F\n",
    "\n",
    "class ConvNet(nn.Module):\n",
    "    def __init__(self):\n",
    "        super(ConvNet, self).__init__()\n",
    "        self.conv1 = nn.Conv2d(1, 16, kernel_size=5, stride=1, padding=2)  # Entrada: 1 canal, Salida: 16 canales, kernel de 5x5\n",
    "        self.pool = nn.MaxPool2d(kernel_size=2, stride=2, padding=0)  # Max pooling con un kernel de 2x2\n",
    "        self.conv2 = nn.Conv2d(16, 32, kernel_size=5, stride=1, padding=2)  # Entrada: 16 canales, Salida: 32 canales\n",
    "        self.fc1 = nn.Linear(32 * 7 * 7, 120)  # Imágenes reducidas a 7x7 después del pooling\n",
    "        self.fc2 = nn.Linear(120, 8)\n",
    "        self.dropout = nn.Dropout(0.5)\n",
    "\n",
    "    def forward(self, x):\n",
    "        x = self.pool(F.relu(self.conv1(x)))\n",
    "        x = self.pool(F.relu(self.conv2(x)))\n",
    "        x = x.view(-1, 32 * 7 * 7)\n",
    "        x = F.relu(self.fc1(x))\n",
    "        x = self.dropout(x)\n",
    "        x = self.fc2(x)\n",
    "        return x"
   ]
  },
  {
   "cell_type": "code",
   "execution_count": 19,
   "metadata": {},
   "outputs": [
    {
     "name": "stdout",
     "output_type": "stream",
     "text": [
      "Epoch 1/10, Loss: 1.6290070354938506\n",
      "Epoch 2/10, Loss: 1.155428721010685\n",
      "Epoch 3/10, Loss: 0.7601062506437302\n",
      "Epoch 4/10, Loss: 0.4831570662558079\n",
      "Epoch 5/10, Loss: 0.3639625575393438\n",
      "Epoch 6/10, Loss: 0.2808754775673151\n",
      "Epoch 7/10, Loss: 0.22890495117753745\n",
      "Epoch 8/10, Loss: 0.1742646069265902\n",
      "Epoch 9/10, Loss: 0.17214558962732554\n",
      "Epoch 10/10, Loss: 0.14804241759702563\n",
      "Accuracy: 54.14364640883978%\n"
     ]
    }
   ],
   "source": [
    "import torch\n",
    "import torch.optim as optim\n",
    "\n",
    "model = ConvNet()\n",
    "criterion = nn.CrossEntropyLoss()\n",
    "optimizer = optim.Adam(model.parameters(), lr=0.001)\n",
    "\n",
    "num_epochs = 10\n",
    "\n",
    "for epoch in range(num_epochs):\n",
    "    model.train()\n",
    "    running_loss = 0.0\n",
    "    for inputs, labels in train_loader:\n",
    "        optimizer.zero_grad()\n",
    "        outputs = model(inputs)\n",
    "        loss = criterion(outputs, labels)\n",
    "        loss.backward()\n",
    "        optimizer.step()\n",
    "        running_loss += loss.item()\n",
    "    \n",
    "    print(f\"Epoch {epoch+1}/{num_epochs}, Loss: {running_loss/len(train_loader)}\")\n",
    "\n",
    "correct = 0\n",
    "total = 0\n",
    "true_positive = 0\n",
    "true_negative = 0\n",
    "\n",
    "model.eval()\n",
    "with torch.no_grad():\n",
    "    for inputs, labels in test_loader:\n",
    "        outputs = model(inputs)\n",
    "        _, predicted = torch.max(outputs, 1)\n",
    "\n",
    "        # Total de ejemplos\n",
    "        total += labels.size(0)\n",
    "\n",
    "        # Ejemplos correctamente clasificados\n",
    "        correct += (predicted == labels).sum().item()\n",
    "\n",
    "# Calcular métricas\n",
    "accuracy = 100 * correct / total\n",
    "print(f\"Accuracy: {accuracy}%\")\n"
   ]
  },
  {
   "cell_type": "code",
   "execution_count": 8,
   "metadata": {},
   "outputs": [
    {
     "name": "stdout",
     "output_type": "stream",
     "text": [
      "Model output: tensor([2]) <-> True label: tensor([0])\n",
      "Model output: tensor([2]) <-> True label: tensor([0])\n",
      "Model output: tensor([7]) <-> True label: tensor([0])\n",
      "Model output: tensor([7]) <-> True label: tensor([0])\n",
      "Accuracy: 0.0%\n"
     ]
    }
   ],
   "source": [
    "dataset = ImageFolder(\"./datasets/random\", transform=transform)\n",
    "\n",
    "train_size = int(0 * len(dataset))\n",
    "test_size = int(0 * len(dataset)) \n",
    "eval_size = int(1 * len(dataset))\n",
    "train_dataset, test_dataset, eval_dataset = random_split(dataset, [train_size, test_size, eval_size])\n",
    "\n",
    "eval_loader = DataLoader(eval_dataset, batch_size=1, shuffle=False)\n",
    "\n",
    "correct = 0\n",
    "total = 0\n",
    "true_positive = 0\n",
    "true_negative = 0\n",
    "\n",
    "model.eval()\n",
    "with torch.no_grad():\n",
    "    for inputs, labels in eval_loader:\n",
    "        outputs = model(inputs)\n",
    "        _, predicted = torch.max(outputs, 1)\n",
    "\n",
    "        # Total de ejemplos\n",
    "        total += labels.size(0)\n",
    "\n",
    "        # Ejemplos correctamente clasificados\n",
    "        correct += (predicted == labels).sum().item()\n",
    "        print(f'Model output: {predicted} <-> True label: {labels}')\n",
    "\n",
    "# Calcular métricas\n",
    "accuracy = 100 * correct / total\n",
    "print(f\"Accuracy: {accuracy}%\")"
   ]
  }
 ],
 "metadata": {
  "kernelspec": {
   "display_name": "aa1",
   "language": "python",
   "name": "python3"
  },
  "language_info": {
   "codemirror_mode": {
    "name": "ipython",
    "version": 3
   },
   "file_extension": ".py",
   "mimetype": "text/x-python",
   "name": "python",
   "nbconvert_exporter": "python",
   "pygments_lexer": "ipython3",
   "version": "3.10.9"
  }
 },
 "nbformat": 4,
 "nbformat_minor": 2
}
